{
 "cells": [
  {
   "cell_type": "code",
   "execution_count": 0,
   "metadata": {
    "application/vnd.databricks.v1+cell": {
     "cellMetadata": {
      "byteLimit": 2048000,
      "rowLimit": 10000
     },
     "inputWidgets": {},
     "nuid": "b27715b7-78d9-4be4-a036-0bbb04ef9574",
     "showTitle": false,
     "tableResultSettingsMap": {},
     "title": ""
    }
   },
   "outputs": [],
   "source": [
    "store_df = spark.read.csv(\"/Volumes/workspace/retail/retaildata/store_data.csv\", header=True, inferSchema=True)\n",
    "sales_df = spark.read.csv(\"/Volumes/workspace/retail/retaildata/sales_data.csv\", header=True, inferSchema=True)\n",
    "display(sales_df)\n",
    "display(store_df)"
   ]
  },
  {
   "cell_type": "code",
   "execution_count": 0,
   "metadata": {
    "application/vnd.databricks.v1+cell": {
     "cellMetadata": {},
     "inputWidgets": {},
     "nuid": "c027e37c-7784-48f6-a1c3-17b4b5332623",
     "showTitle": false,
     "tableResultSettingsMap": {},
     "title": ""
    }
   },
   "outputs": [],
   "source": []
  },
  {
   "cell_type": "code",
   "execution_count": 0,
   "metadata": {
    "application/vnd.databricks.v1+cell": {
     "cellMetadata": {
      "byteLimit": 2048000,
      "rowLimit": 10000
     },
     "inputWidgets": {},
     "nuid": "d040c7cb-3067-401f-8ea7-218971f4e3b2",
     "showTitle": false,
     "tableResultSettingsMap": {},
     "title": ""
    }
   },
   "outputs": [],
   "source": [
    "from pyspark.sql.functions import col, to_date\n",
    "#Data cleaning sales_data\n",
    "\n",
    "sales_df = sales_df.fillna({\"quantity\": 0, \"total_amount\": 0})\n",
    "sales_df = sales_df.dropDuplicates()\n",
    "sales_df = sales_df.filter(col(\"sale_id\").isNotNull())\n",
    "sales_df = sales_df.filter(col(\"store_id\").isNotNull())\n",
    "sales_df = sales_df.filter(col(\"sale_date\").isNotNull())\n",
    "sales_df = sales_df.filter(col(\"quantity\") >= 0)\n",
    "sales_df = sales_df.filter(col(\"total_amount\") >= 0)\n",
    "\n",
    "\n",
    "display(sales_df)"
   ]
  },
  {
   "cell_type": "code",
   "execution_count": 0,
   "metadata": {
    "application/vnd.databricks.v1+cell": {
     "cellMetadata": {
      "byteLimit": 2048000,
      "rowLimit": 10000
     },
     "inputWidgets": {},
     "nuid": "4ad14278-22da-41f3-8a5a-8cb78d9a4a42",
     "showTitle": false,
     "tableResultSettingsMap": {},
     "title": ""
    }
   },
   "outputs": [],
   "source": [
    "from pyspark.sql.functions import avg\n",
    "#Data cleaning store_data\n",
    "\n",
    "store_df = store_df.filter(col(\"store_id\").isNotNull())\n",
    "avg_store_size = store_df.select(avg(\"store_size\")).first()[0]\n",
    "store_df = store_df.fillna({\"store_size\": avg_store_size})\n",
    "store_df = store_df.filter(col(\"open_date\").isNotNull())\n",
    "\n",
    "\n",
    "display(store_df)"
   ]
  },
  {
   "cell_type": "markdown",
   "metadata": {
    "application/vnd.databricks.v1+cell": {
     "cellMetadata": {},
     "inputWidgets": {},
     "nuid": "1a416aea-b95c-4dbb-bce7-4f866c9ec42f",
     "showTitle": false,
     "tableResultSettingsMap": {},
     "title": ""
    }
   },
   "source": []
  },
  {
   "cell_type": "code",
   "execution_count": 0,
   "metadata": {
    "application/vnd.databricks.v1+cell": {
     "cellMetadata": {
      "byteLimit": 2048000,
      "rowLimit": 10000
     },
     "inputWidgets": {},
     "nuid": "57220446-7f4f-404c-b981-7cce05826656",
     "showTitle": false,
     "tableResultSettingsMap": {
      "0": {
       "dataGridStateBlob": "{\"version\":1,\"tableState\":{\"columnPinning\":{\"left\":[\"#row_number#\"],\"right\":[]},\"columnSizing\":{},\"columnVisibility\":{}},\"settings\":{\"columns\":{}},\"syncTimestamp\":1760903044593}",
       "filterBlob": null,
       "queryPlanFiltersBlob": null,
       "tableResultIndex": 0
      }
     },
     "title": ""
    }
   },
   "outputs": [],
   "source": [
    "#Data transformation -- join\n",
    "#combined_df = sales_df.join(store_df, sales_df.store_id == store_df.store_id, \"inner\")\n",
    "combined_df = sales_df.join(store_df, on =\"store_id\", how=\"inner\")\n",
    "display(combined_df)\n"
   ]
  },
  {
   "cell_type": "code",
   "execution_count": 0,
   "metadata": {
    "application/vnd.databricks.v1+cell": {
     "cellMetadata": {
      "byteLimit": 2048000,
      "rowLimit": 10000
     },
     "inputWidgets": {},
     "nuid": "5b2ef50c-9ae0-4517-bf73-ab693ac07b69",
     "showTitle": false,
     "tableResultSettingsMap": {
      "0": {
       "dataGridStateBlob": "{\"version\":1,\"tableState\":{\"columnPinning\":{\"left\":[\"#row_number#\"],\"right\":[]},\"columnSizing\":{},\"columnVisibility\":{}},\"settings\":{\"columns\":{}},\"syncTimestamp\":1760902109947}",
       "filterBlob": null,
       "queryPlanFiltersBlob": null,
       "tableResultIndex": 0
      }
     },
     "title": ""
    }
   },
   "outputs": [],
   "source": [
    "from pyspark.sql.functions import year, col, round\n",
    "combined_df = combined_df.withColumn(\"year\", year(col(\"sale_date\")))\n",
    "combined_df = combined_df.withColumn(\"sales_per_sqft\", round(col(\"total_amount\") / col(\"store_size\"), 2))\n",
    "display(combined_df)"
   ]
  },
  {
   "cell_type": "code",
   "execution_count": 0,
   "metadata": {
    "application/vnd.databricks.v1+cell": {
     "cellMetadata": {
      "byteLimit": 2048000,
      "rowLimit": 10000
     },
     "inputWidgets": {},
     "nuid": "70a6b46e-b2b8-42b9-86c3-c104f0c7a0fc",
     "showTitle": false,
     "tableResultSettingsMap": {},
     "title": ""
    }
   },
   "outputs": [],
   "source": [
    "#Total sales and total quantity per store and region \n",
    "combined_df.createOrReplaceTempView(\"combined\")\n",
    "store_sales_sql = spark.sql(\"\"\"\n",
    "    SELECT \n",
    "        store_id, \n",
    "        store_region, \n",
    "        SUM(total_amount) AS total_sales, \n",
    "        SUM(quantity) AS total_quantity\n",
    "    FROM combined\n",
    "    GROUP BY store_id, store_region\n",
    "\"\"\")\n",
    "\n",
    "display(store_sales_sql)\n"
   ]
  },
  {
   "cell_type": "code",
   "execution_count": 0,
   "metadata": {
    "application/vnd.databricks.v1+cell": {
     "cellMetadata": {
      "byteLimit": 2048000,
      "rowLimit": 10000
     },
     "inputWidgets": {},
     "nuid": "7ba1d349-2a4f-492e-8811-1cff218c79b9",
     "showTitle": false,
     "tableResultSettingsMap": {},
     "title": ""
    }
   },
   "outputs": [],
   "source": [
    "#Top five products by total quantity sold\n",
    "top_products_sql = spark.sql(\"\"\"\n",
    "    SELECT \n",
    "        product_id, \n",
    "        SUM(quantity) AS total_quantity\n",
    "    FROM combined\n",
    "    GROUP BY product_id\n",
    "    ORDER BY total_quantity DESC\n",
    "    LIMIT 5\n",
    "\"\"\")\n",
    "display(top_products_sql)"
   ]
  },
  {
   "cell_type": "code",
   "execution_count": 0,
   "metadata": {
    "application/vnd.databricks.v1+cell": {
     "cellMetadata": {
      "byteLimit": 2048000,
      "rowLimit": 10000
     },
     "inputWidgets": {},
     "nuid": "c41fd8d3-f4d2-49fb-a804-c65fbe4ad363",
     "showTitle": false,
     "tableResultSettingsMap": {},
     "title": ""
    }
   },
   "outputs": [],
   "source": [
    "#Top five stores by sales \n",
    "store_sales_sql.createOrReplaceTempView(\"store_sales\")\n",
    "top_store = spark.sql(\"\n",
    "    select \n",
    "        store_id, \n",
    "        total_sales \n",
    "    from store_sales \n",
    "    order by total_sales \n",
    "    desc limit 5\"\n",
    ")\n",
    "\n",
    "display(top_store)"
   ]
  },
  {
   "cell_type": "code",
   "execution_count": 0,
   "metadata": {
    "application/vnd.databricks.v1+cell": {
     "cellMetadata": {
      "byteLimit": 2048000,
      "rowLimit": 10000
     },
     "inputWidgets": {},
     "nuid": "4cfb7b7a-ce9d-40b8-8d51-44387b971bb9",
     "showTitle": false,
     "tableResultSettingsMap": {},
     "title": ""
    }
   },
   "outputs": [],
   "source": [
    "top_products_sql.write.parquet(\"/Volumes/workspace/retail/retaildata/top_products.parquet\")\n",
    "store_sales_sql.write.parquet(\"/Volumes/workspace/retail/retaildata/store_sales.parquet\")\n",
    "top_store.write.parquet(\"/Volumes/workspace/retail/retaildata/top_store.parquet\")"
   ]
  }
 ],
 "metadata": {
  "application/vnd.databricks.v1+notebook": {
   "computePreferences": null,
   "dashboards": [],
   "environmentMetadata": {
    "base_environment": "",
    "environment_version": "4"
   },
   "inputWidgetPreferences": null,
   "language": "python",
   "notebookMetadata": {
    "pythonIndentUnit": 4
   },
   "notebookName": "Retail_Analysis",
   "widgets": {}
  },
  "language_info": {
   "name": "python"
  }
 },
 "nbformat": 4,
 "nbformat_minor": 0
}
